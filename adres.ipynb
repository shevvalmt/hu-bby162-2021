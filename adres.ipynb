{
  "nbformat": 4,
  "nbformat_minor": 0,
  "metadata": {
    "colab": {
      "name": "adres.ipynb",
      "provenance": [],
      "mount_file_id": "1UL38388fKUgIoT6QobOYbodVOVcnITkn",
      "authorship_tag": "ABX9TyNX7goxyD8sC9gUPqIvmF5R",
      "include_colab_link": true
    },
    "kernelspec": {
      "name": "python3",
      "display_name": "Python 3"
    },
    "language_info": {
      "name": "python"
    }
  },
  "cells": [
    {
      "cell_type": "markdown",
      "metadata": {
        "id": "view-in-github",
        "colab_type": "text"
      },
      "source": [
        "<a href=\"https://colab.research.google.com/github/shevvalmt/hu-bby162-2021/blob/main/adres.ipynb\" target=\"_parent\"><img src=\"https://colab.research.google.com/assets/colab-badge.svg\" alt=\"Open In Colab\"/></a>"
      ]
    },
    {
      "cell_type": "code",
      "metadata": {
        "colab": {
          "base_uri": "https://localhost:8080/"
        },
        "id": "xEROBCBakZSP",
        "outputId": "d47b242e-0520-4047-ef0e-6ab582c89697"
      },
      "source": [
        "adres = \"/content/drive/MyDrive/HU-BBY162-2021/çalışmalar/adres.txt\"\n",
        "\n",
        "f = open(adres, \"a\")\n",
        "\n",
        "BirinciBilgi = input(\"Ad: \")\n",
        "İkinciBilgi = input(\"Soyadı: \")\n",
        "ÜçüncüBilgi = input(\"e-Posta: \")\n",
        "\n",
        "\n",
        "f.write(BirinciBilgi+ \" \" + İkinciBilgi+ \" \" + ÜçüncüBilgi+ \" \" + \"\\n\")\n",
        "\n",
        "f.close()\n",
        "\n",
        "f = open(adres, \"r\")\n",
        "for line in f.readlines():\n",
        "    print(line)\n",
        "f.close()\n"
      ],
      "execution_count": 4,
      "outputs": [
        {
          "output_type": "stream",
          "text": [
            "Ad: Melike Şevval \n",
            "Soyadı: Tomak\n",
            "e-Posta: melike.tomakazhotmail.com@gmail.com\n",
            "melike şevval tomak\n",
            "\n",
            "melike.tomakazhotmail.com@gmail.comMelike Şevval  Tomak melike.tomakazhotmail.com@gmail.com \n",
            "\n"
          ],
          "name": "stdout"
        }
      ]
    }
  ]
}