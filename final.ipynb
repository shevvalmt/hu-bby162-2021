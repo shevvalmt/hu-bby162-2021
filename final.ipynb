{
  "nbformat": 4,
  "nbformat_minor": 0,
  "metadata": {
    "colab": {
      "name": "final.ipynb",
      "provenance": [],
      "mount_file_id": "15-dvxEq4NyRB6RM9D60ieKC914FTSBMQ",
      "authorship_tag": "ABX9TyO+o1hc4bfOY+jF5zw4CkNu",
      "include_colab_link": true
    },
    "kernelspec": {
      "name": "python3",
      "display_name": "Python 3"
    },
    "language_info": {
      "name": "python"
    }
  },
  "cells": [
    {
      "cell_type": "markdown",
      "metadata": {
        "id": "view-in-github",
        "colab_type": "text"
      },
      "source": [
        "<a href=\"https://colab.research.google.com/github/shevvalmt/hu-bby162-2021/blob/main/final.ipynb\" target=\"_parent\"><img src=\"https://colab.research.google.com/assets/colab-badge.svg\" alt=\"Open In Colab\"/></a>"
      ]
    },
    {
      "cell_type": "markdown",
      "metadata": {
        "id": "jrZF-jZhxoeu"
      },
      "source": [
        "Final Projesi"
      ]
    },
    {
      "cell_type": "code",
      "metadata": {
        "id": "zkN4J03sxy1c",
        "colab": {
          "base_uri": "https://localhost:8080/"
        },
        "outputId": "72c60902-7605-43c6-e39f-5c95d8f158d9"
      },
      "source": [
        "#Kütüphane Otomasyonu\n",
        "#Veri Deposu : /content/drive/MyDrive/Colab Notebooks/HU-BBY162-2021/çalışmalar/final.txt\n",
        "\n",
        "dosya = \"/content/drive/MyDrive/Colab Notebooks/HU-BBY162-2021/çalışmalar/final.txt\"\n",
        "print(\":: Kütüphane Kataloglama Sistemine Hoş Geldiniz ::\")\n",
        "\n",
        "def eserListele():\n",
        "  f = open(dosya, 'r')\n",
        "  for line in f.readlines():\n",
        "    print(line)\n",
        "  f.close()\n",
        "\n",
        "def eserKaydet():\n",
        "  eserAdi = input(\"Eser Adını Giriniz: \")\n",
        "  yazarAdi = input(\" Lutfen Eserin Yazarını Giriniz: \")\n",
        "  eserYayinevi = input(\" Lutfen Eserin Yayınevi Bilgisini Giriniz: \")\n",
        "  basımTarihi = input(\" Lutfen Eserin Basım Tarihi Bilgisini Giriniz: \")\n",
        "  eserIsbn = input(\"Lutfen Eserin ISBN Bilgilerini Giriniz: \")\n",
        "  f = open(dosya, 'a' )\n",
        "  f.write(eserAdi + \" , \" + yazarAdi + \" , \" + eserYayinevi + \" , \"  + basımTarihi + \",\"  + eserIsbn + '\\n')\n",
        "  print(\"Kayıt işleminiz başarıyla gerçekleştirilmiştir.\")\n",
        "  f.close()\n",
        "  \n",
        "islemSecme = [\"listele\", \"ekle\", \"sonlandır\"]\n",
        "while islemSecme:\n",
        "  girilen_islem = input(\"Lutfen katalogdaki eser listesini görüntülemek için 'listele' yazınız. \\n\"\n",
        "      \"Yeni eser kaydı eklemek için 'ekle' yazınız.\\n\"     \n",
        "      \"Sistemden çıkmak için 'sonlandır' yazınız.\\n\"\n",
        "      \"Yapmak istediğiniz işlem için ilgili kelimeyi yazınız: \")\n",
        "  \n",
        "  if girilen_islem == islemSecme[0]:\n",
        "    print(\":: Kütüphane Kataloglama Sistemine Hoş Geldiniz ::\")\n",
        "    eserListele()\n",
        "  elif girilen_islem == islemSecme[1]:\n",
        "    print(\"Katalog için yeni bir kayıt oluşturunuz.\")\n",
        "    eserKaydet()\n",
        "  elif girilen_islem == islemSecme[2]:\n",
        "    break\n",
        "\n"
      ],
      "execution_count": 3,
      "outputs": [
        {
          "output_type": "stream",
          "text": [
            ":: Kütüphane Kataloglama Sistemine Hoş Geldiniz ::\n",
            "Lutfen katalogdaki eser listesini görüntülemek için 'listele' yazınız. \n",
            "Yeni eser kaydı eklemek için 'ekle' yazınız.\n",
            "Sistemden çıkmak için 'sonlandır' yazınız.\n",
            "Yapmak istediğiniz işlem için ilgili kelimeyi yazınız: listele\n",
            ":: Kütüphane Kataloglama Sistemine Hoş Geldiniz ::\n",
            "Sineklerin Tanrisi, William Golding, Turkiye Is Bankasi Kultur Yayinlari, Subat 2020, 9789754582901\n",
            "\n",
            "Hayvan Ciftligi, George Orwell, Kedi Yayinlari, Ocak 2021, 9786052987506\n",
            "\n",
            "Donusum, Franz Kafka, Turkiye Is Bankasi, Mart 2019, 9786053609322\n",
            "\n",
            "Ermis, Halil Cibran, Koridor Yayincilik, 2020, 9786057572677\n",
            "\n",
            "Olaganustu Bir Gece, Stefan Zweig, Turkiye Is Bankasi Kultur Yayinlari, Nisan 2020, 9786053326090\n",
            "\n",
            "Martin Eden, Jack London, Can Yayinllari, Nisan 2019, 9789750738326\n",
            "\n",
            "Sefiller, Victor Hugo, Turkiye Is Bankasi Kultur Yayinlari, Ocak 2021, 9786053324744\n",
            "\n",
            "Bir İdam Mahkumunun Son Gunu, Victor Hugo, Turkiye Is Bankasi Kultur Yayinlari, 9786053609902\n",
            "\n",
            "Serenad, Zulfu Livaneli, Dogan Kitap, Ocak 2021, 9786050900286\n",
            "\n",
            "\n",
            "\n",
            "Kardesimin Hikayesi , Zulfu Livaneli , Dogan Yayincilik , Nisan 2013,9786050914443\n",
            "\n",
            "Lutfen katalogdaki eser listesini görüntülemek için 'listele' yazınız. \n",
            "Yeni eser kaydı eklemek için 'ekle' yazınız.\n",
            "Sistemden çıkmak için 'sonlandır' yazınız.\n",
            "Yapmak istediğiniz işlem için ilgili kelimeyi yazınız: ekle\n",
            "Katalog için yeni bir kayıt oluşturunuz.\n",
            "Eser Adını Giriniz: Suc ve Ceza\n",
            " Lutfen Eserin Yazarını Giriniz: Fyodor Mihaylovic Dostoyevski\n",
            " Lutfen Eserin Yayınevi Bilgisini Giriniz: Turkiye Is Bankasi Kultur Yayinlari\n",
            " Lutfen Eserin Basım Tarihi Bilgisini Giriniz: Ocak 2019\n",
            "Lutfen Eserin ISBN Bilgilerini Giriniz: 9789754589023\n",
            "Kayıt işleminiz başarıyla gerçekleştirilmiştir.\n",
            "Lutfen katalogdaki eser listesini görüntülemek için 'listele' yazınız. \n",
            "Yeni eser kaydı eklemek için 'ekle' yazınız.\n",
            "Sistemden çıkmak için 'sonlandır' yazınız.\n",
            "Yapmak istediğiniz işlem için ilgili kelimeyi yazınız: sonlandır\n"
          ],
          "name": "stdout"
        }
      ]
    }
  ]
}